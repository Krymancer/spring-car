{
 "cells": [
  {
   "cell_type": "markdown",
   "metadata": {},
   "source": [
    "## O Problema Carro-Mola - Modelagem matemática através de equações difeciais\n",
    "### José Ediberto N. Júnior, 0403490 e Ruan Felipe de Almeida Silva 0397048.\n",
    "\n",
    "\n",
    "### 1. Introdução\n",
    "Considere um carro de massa ${m}$ ligado a uma parede por uma mola e imerso em um fluido. Colocando\n",
    "o carro em movimento puxando-o ${x_{0}}$ metros de sua posição de equilíbrio e soltando-o. Pela lei\n",
    "de Hooke, a mola exerce uma força Fm sobre o carro proporcional ao seu alongamento, possuindo um coeficiente\n",
    "de proporcionalidade ${k}$. Vamos supor que o meio viscoso oferece uma força ${F_{v}}$ de resistência ao\n",
    "movimento proporcional à sua velocidade com constante de proporcionalidade ${c}$. Seja ${x = x(t)}$ a\n",
    "posição do carro em um instante ${t}$ e ${v = v(t)}$ sua velocidade, que também pode ser escrito como a derivada da posição em relação ao tempo (${\\frac{dx}{dt}}$. Uma vez iniciado o movimento, as\n",
    "forças atuantes no carro, ${F_{m}}$ e ${F_{v}}$, tem sinais contrários. Colocamos um referencial conforme a\n",
    "figura 1.\n",
    "\n",
    "![Spring-Car](spring-car.png)\n",
    "<div align=center>*Imagem 1: Carro Mola*</div> \n",
    "\n",
    "### 2. Modelagem Matemática\n",
    "Vamos supor que o carro está à direita do seu ponto de equilíbrio. Neste caso, a\n",
    "força ${F_{m}}$ assume o sinal negativo e a força ${F_{v}}$ o sinal positivo. Acontece que, como o carro está se\n",
    "movimentando para a esquerda, a distância ${x(t)}$ de sua posição de equilíbrio está diminuindo, ou seja, a função ${x(t)}$ está decrescendo e, portanto, sua derivada ${x'(t)}$ é negativa, isto é, sua velocidade é negativa. Como ${F_{v}}$ é uma força positiva e ela é proporcional a ${F_{m}}$, então ${F_{v} = −cx'(t)}$. Logo, pela 2ª lei de Newton, a soma das forças atuantes no carro-mola que é igual a ${ma + kxt}$ onde, a é a aceleração do carro, que pode ser escrita como a derivada segunda da variação espaço em relação ao tempo (\\frac{d^2x}{dt^2}). Portanto a seguinte equação diferencial linear homogênea de segunda ordem com coeficientes constantes representa o sistema carro mola.\n",
    "\n",
    "\\begin{equation} mx\"(t) + cx'(t) + kx(t) = 0 \\end{equation}\n",
    "\n",
    "Vamos resolver este problema considerando c = 5 e k = 6. A primeira abordagem utilizada para resolver é reduzir esta equação de 2ª ordem a duas de primeira.\n",
    "\n",
    "\\begin{equation} \\frac{d^2x}{dt^2} + 5\\frac{dx}{dt} + 6x = \\frac{d^2x}{dt^2} + 2\\frac{dx}{dt} + 3\\frac{dx}{dt} + 3.2x \\\\\n",
    "=\\frac{d}{dt}\\Big(\\frac{dx}{dt} + 2x\\Big) + 3\\Big(\\frac{dx}{dt} + 2x\\Big) \\end{equation}\n",
    "\n",
    "Chamando ${\\frac{dx}{dt} + 2x}$ de ${y}$, tem-se: \n",
    "\n",
    "\\begin{equation} \\frac{dx}{dt} + 3y = 0 \\\\\n",
    "y = ce^{-3t}\\end{equation}\n",
    "\n",
    "Logo ${\\frac{dx}{dt} + 2x = ce^{-3t}}$  ${(e^{2t}x)' = ce^{-t}}$, assim:\n",
    "\n",
    "\\begin{equation} e^{2t}x = \\int ce^{-t} dt = -ce^{-t} + C_{1} \\end{equation}\n",
    "\n",
    "Logo, a solução da equação é:\n",
    "\n",
    "\\begin{equation} x(t) = C_{1}e^{-2t} + C_{2}e^{-3t} \\end{equation}\n",
    "\n",
    "\n",
    "Supondo que as condições iniciais do problema, posição e velocidade, são ${x(0) = 5}$ e ${x'(0) = 0}$, vamos calcular os valores das constantes:\n",
    "\n",
    "\\begin{equation} x(t) = C_{1}e^{-2t} + C_{2}e^{-3t} \\\\\n",
    "5 = C_{1}e^{0} + C_{2}e^{0}\\\\\n",
    "5 = C_{1} + C_{2}\\end{equation}\n",
    "\n",
    "\\begin{equation}  x'(t) = -2C_{1}e^{-2t} -3C_{2}e^{-3t}\\\\\n",
    "0 = -2C_{1}e^{0} -3C_{2}e^{0}\\\\\n",
    "0 = -2c_{1} - 3C_{2}\\\\\n",
    "2C_{1} = -3C_{2}\\\\\n",
    "C_{1} = \\frac{-3C_{2}}{2}\\end{equation}\n",
    "\\begin{equation}5 = \\frac{-3C_{2}}{2} + C_{2}\\\\\n",
    "5 = \\frac{-C_{2}}{2}\\\\\n",
    "C_{2} = -10\\end{equation} \n",
    "\\begin{equation}\n",
    "C_{1} = \\frac{-3C_{2}}{2}\\\\\n",
    "C_{1} = 15\\end{equation}\n",
    "\n",
    "### 3. Simulação\n",
    "Logo, a equação apresenta a seguinte solução, ${x(t) = 15e^{-2t} - 10e^{-3t}}$, geramos o seguinte grafico para sabermos o movimento do carro em qualquer instante.\n",
    "\n",
    "![Graph](graph.png)\n",
    "<div align=center>*Imagem 2: Solução do problema carro-mola super-amortecido*</div> \n",
    "\n",
    "\n",
    "Interpretando o gráfico, percebemos que o carro sai de sua posição inicial, onde ${x(0) = 5}$ e com velocidade\n",
    "${\\frac{dx}{dt}(0) = 0}$ tende para sua posição de equilíbrio."
   ]
  },
  {
   "cell_type": "markdown",
   "metadata": {},
   "source": [
    "### 4. Plotando o gráfico usando python\n",
    "Usamos as ferramentas numpy, scripy e matplotlib, do python para resolvermos e plotarmos o grafico de nosso sistema, como as blibiotecas não suportam EDO de ordem superior, nossa abordagem de reduzirmos as EDO para duas de primeira ordem nos fez capazes de conseguirmos utilizar as ferramentas para ter o resultado esperado."
   ]
  },
  {
   "cell_type": "code",
   "execution_count": 8,
   "metadata": {},
   "outputs": [
    {
     "data": {
      "image/png": "[encoded data removed]",
      "text/plain": [
       "<Figure size 432x288 with 1 Axes>"
      ]
     },
     "metadata": {},
     "output_type": "display_data"
    }
   ],
   "source": [
    "import numpy as np\n",
    "from scipy.integrate import odeint\n",
    "import matplotlib.pyplot as plt\n",
    "\n",
    "# function that returns dy/dt\n",
    "def model(y,t):\n",
    "    k = 3\n",
    "    dydt = -k * y\n",
    "    return dydt\n",
    "\n",
    "# initial condition\n",
    "y0 = 5\n",
    "\n",
    "# time points\n",
    "t = np.linspace(0,5)\n",
    "\n",
    "# solve ODE\n",
    "y = odeint(model,y0,t)\n",
    "\n",
    "# plot results\n",
    "plt.plot(t,y)\n",
    "plt.xlabel('time')\n",
    "plt.ylabel('y(t)')\n",
    "plt.show()"
   ]
  },
  {
   "cell_type": "code",
   "execution_count": null,
   "metadata": {},
   "outputs": [],
   "source": []
  }
 ],
 "metadata": {
  "kernelspec": {
   "display_name": "Python 3",
   "language": "python",
   "name": "python3"
  },
  "language_info": {
   "codemirror_mode": {
    "name": "ipython",
    "version": 3
   },
   "file_extension": ".py",
   "mimetype": "text/x-python",
   "name": "python",
   "nbconvert_exporter": "python",
   "pygments_lexer": "ipython3",
   "version": "3.6.5"
  }
 },
 "nbformat": 4,
 "nbformat_minor": 2
}
